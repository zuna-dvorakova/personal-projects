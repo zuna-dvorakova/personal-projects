{
 "cells": [
  {
   "cell_type": "markdown",
   "id": "c4874fda",
   "metadata": {},
   "source": [
    "## Integrated Public Transport System of the South Moravian Region\n",
    "\n",
    "\n",
    "\n",
    "\n",
    "A short exercise from the Digital Academy, supplied by one of our lecturers, used to refresh my memory."
   ]
  },
  {
   "cell_type": "markdown",
   "id": "7b86ea9c",
   "metadata": {},
   "source": [
    "When did I last load the JSON?"
   ]
  },
  {
   "cell_type": "code",
   "execution_count": 45,
   "id": "752214b2",
   "metadata": {},
   "outputs": [
    {
     "name": "stdout",
     "output_type": "stream",
     "text": [
      "Datum: 2025-07-29, čas: 21:52:02.8969505+02:00\n"
     ]
    }
   ],
   "source": [
    "import json\n",
    "import requests\n",
    "import pandas\n",
    "\n",
    "# to make the request look like a real browser, which is much less likely to be blocked:\n",
    "headers = {\n",
    "    \"User-Agent\": \"Mozilla/5.0 (Windows NT 10.0; Win64; x64)\"\n",
    "}\n",
    "\n",
    "x = requests.get(\"https://mapa.idsjmk.cz/api/vehicles.json\", headers=headers)\n",
    "\n",
    "data = x.json()\n",
    "\n",
    "last_update = data[\"LastUpdate\"]\n",
    "date, time = last_update.split(\"T\")\n",
    "\n",
    "print(f\"Datum: {date}, čas: {time}\")"
   ]
  },
  {
   "cell_type": "markdown",
   "id": "02608288",
   "metadata": {},
   "source": [
    "Show me what I will be working with (columns and an example entries - only up to 5 unique values):"
   ]
  },
  {
   "cell_type": "code",
   "execution_count": 46,
   "id": "1286c490",
   "metadata": {},
   "outputs": [
    {
     "name": "stdout",
     "output_type": "stream",
     "text": [
      "\n",
      "ID:\n",
      "[21105  1620  2021 21094 21037]\n",
      "\n",
      "IDB:\n",
      "[   0 1561 1530 1574 1601]\n",
      "\n",
      "IDC:\n",
      "[0]\n",
      "\n",
      "VType:\n",
      "[4 0 2 1 5]\n",
      "\n",
      "LType:\n",
      "[4 0 2 1 5]\n",
      "\n",
      "Lat:\n",
      "[49.118328 49.23304  49.142292 48.799698 48.94582 ]\n",
      "\n",
      "Lng:\n",
      "[16.474209 16.576391 16.632755 16.628784 16.967194]\n",
      "\n",
      "Bearing:\n",
      "[ 45 225  -1 135 315]\n",
      "\n",
      "LineID:\n",
      "[510 392  78 585 662]\n",
      "\n",
      "LineName:\n",
      "['510' 'x12' '78' '585' '662']\n",
      "\n",
      "RouteID:\n",
      "[  35 7257 7114   34   48]\n",
      "\n",
      "ServiceId:\n",
      "[51001  1238  7809 57101 66201]\n",
      "\n",
      "Course:\n",
      "['51001' '01238' '07809' '57101' '66201']\n",
      "\n",
      "LF:\n",
      "[ True False]\n",
      "\n",
      "Delay:\n",
      "[0 1 2 5 3]\n",
      "\n",
      "LastStopID:\n",
      "[14209  1659 15130 15714 16545]\n",
      "\n",
      "FinalStopID:\n",
      "[14213  1242  1773 15801 16608]\n",
      "\n",
      "FinalStopName:\n",
      "['Radostice, kostel' 'Klusáčkova' 'Vojenská nem.' 'Valtice, aut. st.'\n",
      " 'Kyjov, aut. st.']\n",
      "\n",
      "IsInactive:\n",
      "[False  True]\n"
     ]
    }
   ],
   "source": [
    "df = pd.json_normalize(data[\"Vehicles\"])\n",
    "\n",
    "for column in df.columns:\n",
    "    unique_values = df[column].unique()\n",
    "    sample_values = unique_values[:5]\n",
    "    print(f\"\\n{column}:\")\n",
    "    print(sample_values)"
   ]
  },
  {
   "cell_type": "markdown",
   "id": "0b1eed17",
   "metadata": {},
   "source": [
    "Total number of vehicles:"
   ]
  },
  {
   "cell_type": "code",
   "execution_count": 47,
   "id": "bb3c63ed",
   "metadata": {},
   "outputs": [
    {
     "data": {
      "text/plain": [
       "335"
      ]
     },
     "execution_count": 47,
     "metadata": {},
     "output_type": "execute_result"
    }
   ],
   "source": [
    "vehicles = data['Vehicles']\n",
    "vehicles_count = len(vehicles)\n",
    "vehicles_count"
   ]
  },
  {
   "cell_type": "markdown",
   "id": "1174eb85",
   "metadata": {},
   "source": [
    "Number of vehicles on break:"
   ]
  },
  {
   "cell_type": "code",
   "execution_count": 48,
   "id": "4fedc834",
   "metadata": {},
   "outputs": [
    {
     "name": "stdout",
     "output_type": "stream",
     "text": [
      "57\n"
     ]
    }
   ],
   "source": [
    "inactive_vehicles_count = 0\n",
    "\n",
    "for vehicle in vehicles:\n",
    "    if vehicle[\"IsInactive\"]:\n",
    "        inactive_vehicles_count += 1\n",
    "\n",
    "print(inactive_vehicles_count)"
   ]
  },
  {
   "cell_type": "markdown",
   "id": "58ef69aa",
   "metadata": {},
   "source": [
    "Number of vehicles with a delay greater than 5 minutes + what percentage is that of all vehicles:"
   ]
  },
  {
   "cell_type": "code",
   "execution_count": 49,
   "id": "9c2a7fb0",
   "metadata": {},
   "outputs": [
    {
     "name": "stdout",
     "output_type": "stream",
     "text": [
      "10\n",
      "2.9850746268656714\n"
     ]
    }
   ],
   "source": [
    "delayed_vehicles = 0\n",
    "\n",
    "for vehicle in vehicles:\n",
    "    if vehicle[\"Delay\"] > 5:\n",
    "        delayed_vehicles += 1\n",
    "print(delayed_vehicles)\n",
    "\n",
    "percentage_delayed_vehicles = delayed_vehicles / len(vehicles) * 100\n",
    "print(percentage_delayed_vehicles)"
   ]
  },
  {
   "cell_type": "markdown",
   "id": "fe7922b2",
   "metadata": {},
   "source": [
    "Average delay:"
   ]
  },
  {
   "cell_type": "code",
   "execution_count": 50,
   "id": "fbf3a868",
   "metadata": {},
   "outputs": [
    {
     "name": "stdout",
     "output_type": "stream",
     "text": [
      "Average delay: 1.2447761194029852\n"
     ]
    }
   ],
   "source": [
    "total_delay = 0.0\n",
    "for vehicle in vehicles:\n",
    "    total_delay += vehicle[\"Delay\"]\n",
    "\n",
    "average_delay = total_delay / len(vehicles)\n",
    "print(\"Average delay:\", average_delay)"
   ]
  },
  {
   "cell_type": "markdown",
   "id": "6d221fe3",
   "metadata": {},
   "source": [
    "Number of low-floor regional trains:"
   ]
  },
  {
   "cell_type": "code",
   "execution_count": 51,
   "id": "d9603b9e",
   "metadata": {},
   "outputs": [
    {
     "name": "stdout",
     "output_type": "stream",
     "text": [
      "29\n"
     ]
    }
   ],
   "source": [
    "LF_RF_train_count = 0\n",
    "\n",
    "for vehicle in vehicles:\n",
    "    if (vehicle['LF']) and ('R' in vehicle['LineName'] or 'S' in vehicle['LineName']):\n",
    "        LF_RF_train_count += 1\n",
    "\n",
    "print(LF_RF_train_count)"
   ]
  },
  {
   "cell_type": "markdown",
   "id": "484ec383",
   "metadata": {},
   "source": [
    "Which ones end at \"Technologický park\":"
   ]
  },
  {
   "cell_type": "code",
   "execution_count": 52,
   "id": "b6ca96eb",
   "metadata": {},
   "outputs": [
    {
     "name": "stdout",
     "output_type": "stream",
     "text": [
      "x12\n",
      " 65\n",
      " 72\n",
      " 72\n"
     ]
    }
   ],
   "source": [
    "final_stop_technologicky_park = df[df[\"FinalStopName\"].str.endswith(\"Technologický park\", na=False)]\n",
    "\n",
    "print(final_stop_technologicky_park[\"LineName\"].to_string(index=False))"
   ]
  }
 ],
 "metadata": {
  "kernelspec": {
   "display_name": "Python 3",
   "language": "python",
   "name": "python3"
  },
  "language_info": {
   "codemirror_mode": {
    "name": "ipython",
    "version": 3
   },
   "file_extension": ".py",
   "mimetype": "text/x-python",
   "name": "python",
   "nbconvert_exporter": "python",
   "pygments_lexer": "ipython3",
   "version": "3.12.1"
  }
 },
 "nbformat": 4,
 "nbformat_minor": 5
}
