{
 "cells": [
  {
   "cell_type": "markdown",
   "id": "c4874fda",
   "metadata": {},
   "source": [
    "## Integrated Public Transport System of the South Moravian Region\n",
    "\n",
    "\n",
    "\n",
    "\n",
    "A short exercise from the Digital Academy, supplied by one of our lecturers, used to refresh my memory."
   ]
  },
  {
   "cell_type": "markdown",
   "id": "7b86ea9c",
   "metadata": {},
   "source": [
    "When did I last load the JSON?"
   ]
  },
  {
   "cell_type": "code",
   "execution_count": 16,
   "id": "752214b2",
   "metadata": {},
   "outputs": [
    {
     "name": "stdout",
     "output_type": "stream",
     "text": [
      "Datum: 2025-07-29, čas: 21:13:55.2272123+02:00\n"
     ]
    }
   ],
   "source": [
    "import json\n",
    "import requests\n",
    "\n",
    "# to make the request look like a real browser, which is much less likely to be blocked:\n",
    "headers = {\n",
    "    \"User-Agent\": \"Mozilla/5.0 (Windows NT 10.0; Win64; x64)\"\n",
    "}\n",
    "\n",
    "x = requests.get(\"https://mapa.idsjmk.cz/api/vehicles.json\", headers=headers)\n",
    "\n",
    "data = x.json()\n",
    "\n",
    "last_update = data[\"LastUpdate\"]\n",
    "date, time = last_update.split(\"T\")\n",
    "\n",
    "print(f\"Datum: {date}, čas: {time}\")"
   ]
  },
  {
   "cell_type": "markdown",
   "id": "0b1eed17",
   "metadata": {},
   "source": [
    "Total number of vehicles:"
   ]
  },
  {
   "cell_type": "code",
   "execution_count": 17,
   "id": "bb3c63ed",
   "metadata": {},
   "outputs": [
    {
     "data": {
      "text/plain": [
       "424"
      ]
     },
     "execution_count": 17,
     "metadata": {},
     "output_type": "execute_result"
    }
   ],
   "source": [
    "vehicles = data['Vehicles']\n",
    "vehicles_count = len(vehicles)\n",
    "vehicles_count"
   ]
  },
  {
   "cell_type": "markdown",
   "id": "1174eb85",
   "metadata": {},
   "source": [
    "Number of vehicles on break:"
   ]
  },
  {
   "cell_type": "code",
   "execution_count": 18,
   "id": "4fedc834",
   "metadata": {},
   "outputs": [
    {
     "name": "stdout",
     "output_type": "stream",
     "text": [
      "48\n"
     ]
    }
   ],
   "source": [
    "inactive_vehicles_count = 0\n",
    "\n",
    "for vehicle in vehicles:\n",
    "    if vehicle[\"IsInactive\"]:\n",
    "        inactive_vehicles_count += 1\n",
    "\n",
    "print(inactive_vehicles_count)"
   ]
  },
  {
   "cell_type": "markdown",
   "id": "58ef69aa",
   "metadata": {},
   "source": [
    "Number of vehicles with a delay greater than 5 minutes + what percentage is that of all vehicles:"
   ]
  },
  {
   "cell_type": "code",
   "execution_count": 21,
   "id": "9c2a7fb0",
   "metadata": {},
   "outputs": [
    {
     "name": "stdout",
     "output_type": "stream",
     "text": [
      "10\n",
      "2.358490566037736\n"
     ]
    }
   ],
   "source": [
    "delayed_vehicles = 0\n",
    "\n",
    "for vehicle in vehicles:\n",
    "    if vehicle[\"Delay\"] > 5:\n",
    "        delayed_vehicles += 1\n",
    "print(delayed_vehicles)\n",
    "\n",
    "percentage_delayed_vehicles = delayed_vehicles / len(vehicles) * 100\n",
    "print(percentage_delayed_vehicles)"
   ]
  },
  {
   "cell_type": "markdown",
   "id": "fe7922b2",
   "metadata": {},
   "source": [
    "Average delay of all vehicles:"
   ]
  },
  {
   "cell_type": "code",
   "execution_count": 23,
   "id": "fbf3a868",
   "metadata": {},
   "outputs": [
    {
     "name": "stdout",
     "output_type": "stream",
     "text": [
      "Average delay: 1.0047169811320755\n"
     ]
    }
   ],
   "source": [
    "total_delay = 0.0\n",
    "for vehicle in vehicles:\n",
    "    total_delay += vehicle[\"Delay\"]\n",
    "\n",
    "average_delay = total_delay / len(vehicles)\n",
    "print(\"Average delay:\", average_delay)"
   ]
  },
  {
   "cell_type": "markdown",
   "id": "6d221fe3",
   "metadata": {},
   "source": [
    "Number of low-floor regional trains:"
   ]
  },
  {
   "cell_type": "code",
   "execution_count": 20,
   "id": "d9603b9e",
   "metadata": {},
   "outputs": [
    {
     "name": "stdout",
     "output_type": "stream",
     "text": [
      "31\n"
     ]
    }
   ],
   "source": [
    "LF_RF_train_count = 0\n",
    "\n",
    "for vehicle in vehicles:\n",
    "    if (vehicle['LF']) and ('R' in vehicle['LineName'] or 'S' in vehicle['LineName']):\n",
    "        LF_RF_train_count += 1\n",
    "\n",
    "print(LF_RF_train_count)"
   ]
  }
 ],
 "metadata": {
  "kernelspec": {
   "display_name": "Python 3",
   "language": "python",
   "name": "python3"
  },
  "language_info": {
   "codemirror_mode": {
    "name": "ipython",
    "version": 3
   },
   "file_extension": ".py",
   "mimetype": "text/x-python",
   "name": "python",
   "nbconvert_exporter": "python",
   "pygments_lexer": "ipython3",
   "version": "3.12.1"
  }
 },
 "nbformat": 4,
 "nbformat_minor": 5
}
